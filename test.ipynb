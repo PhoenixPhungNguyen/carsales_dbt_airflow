{
 "cells": [
  {
   "cell_type": "code",
   "execution_count": 1,
   "id": "8a8902f0",
   "metadata": {},
   "outputs": [],
   "source": [
    "import pandas as pd"
   ]
  },
  {
   "cell_type": "code",
   "execution_count": 2,
   "id": "dae0278b",
   "metadata": {},
   "outputs": [
    {
     "name": "stderr",
     "output_type": "stream",
     "text": [
      "C:\\Users\\haing\\AppData\\Local\\Temp\\ipykernel_8696\\3892435759.py:1: DtypeWarning: Columns (10,11) have mixed types. Specify dtype option on import or set low_memory=False.\n",
      "  df = pd.read_csv(\"data/dimdates.csv\")\n"
     ]
    }
   ],
   "source": [
    "df = pd.read_csv(\"data/dimdates.csv\")"
   ]
  },
  {
   "cell_type": "code",
   "execution_count": 3,
   "id": "bfb65cd4",
   "metadata": {},
   "outputs": [],
   "source": [
    "import re\n",
    "\n",
    "import pandas as pd\n",
    "\n",
    "\n",
    "# Assuming df is your DataFrame\n",
    "def to_snake_case(name):\n",
    "    name = re.sub(r\"(.)([A-Z][a-z]+)\", r\"\\1_\\2\", name)\n",
    "    name = re.sub(r\"([a-z0-9])([A-Z])\", r\"\\1_\\2\", name)\n",
    "    return name.lower()\n",
    "\n",
    "\n",
    "df.columns = [to_snake_case(col) for col in df.columns]\n"
   ]
  },
  {
   "cell_type": "code",
   "execution_count": 4,
   "id": "e4c8ebde",
   "metadata": {},
   "outputs": [],
   "source": [
    "df.rename(columns={\"id\": \"date_id\"}, inplace=True)"
   ]
  },
  {
   "cell_type": "code",
   "execution_count": 5,
   "id": "03f2c941",
   "metadata": {},
   "outputs": [],
   "source": [
    "df.to_csv(\"dim_date.csv\", index=False)"
   ]
  }
 ],
 "metadata": {
  "kernelspec": {
   "display_name": ".venv",
   "language": "python",
   "name": "python3"
  },
  "language_info": {
   "codemirror_mode": {
    "name": "ipython",
    "version": 3
   },
   "file_extension": ".py",
   "mimetype": "text/x-python",
   "name": "python",
   "nbconvert_exporter": "python",
   "pygments_lexer": "ipython3",
   "version": "3.11.11"
  }
 },
 "nbformat": 4,
 "nbformat_minor": 5
}
